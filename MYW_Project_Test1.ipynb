{
 "cells": [
  {
   "cell_type": "code",
   "execution_count": 2,
   "metadata": {
    "collapsed": true
   },
   "outputs": [],
   "source": [
    "from __future__ import print_function\n",
    "import csv #import the Python CSV library\n",
    "import networkx as nx #import NetworkX\n",
    "import numpy as np #import numpy for ...\n",
    "import community #import community (https://pypi.python.org/pypi/python-louvain/0.3)\n",
    "import powerlaw #import powerlaw library for testing fits\n",
    "#force drawing of graphs inline for ipython notebook\n",
    "%matplotlib inline \n",
    "import matplotlib.pyplot as plt #import matplotlib for plotting/drawing grpahs\n"
   ]
  },
  {
   "cell_type": "code",
   "execution_count": 7,
   "metadata": {
    "collapsed": false
   },
   "outputs": [],
   "source": [
    "with open('Elec_Netw_Data_SIMPLE.csv', 'rb') as file_handle:\n",
    "    next(file_handle, '')\n",
    "    G = nx.read_edgelist(file_handle, delimiter=';')"
   ]
  },
  {
   "cell_type": "code",
   "execution_count": 8,
   "metadata": {
    "collapsed": false
   },
   "outputs": [
    {
     "name": "stdout",
     "output_type": "stream",
     "text": [
      "Nodes:  511\n",
      "Edges:  679\n",
      "Average degree:  1.3287671232876712\n"
     ]
    }
   ],
   "source": [
    "N = G.order() #G.order(), gives number of nodes \n",
    "L = G.size() #G.size(), gives number of edges\n",
    "\n",
    "avg_deg = float(L) / N #calculate average degree\n",
    "\n",
    "#print out statistics\n",
    "print(\"Nodes: \", N)\n",
    "print(\"Edges: \", L)\n",
    "print(\"Average degree: \", avg_deg)"
   ]
  },
  {
   "cell_type": "code",
   "execution_count": null,
   "metadata": {
    "collapsed": true
   },
   "outputs": [],
   "source": []
  }
 ],
 "metadata": {
  "kernelspec": {
   "display_name": "Python 3",
   "language": "python",
   "name": "python3"
  },
  "language_info": {
   "codemirror_mode": {
    "name": "ipython",
    "version": 3
   },
   "file_extension": ".py",
   "mimetype": "text/x-python",
   "name": "python",
   "nbconvert_exporter": "python",
   "pygments_lexer": "ipython3",
   "version": "3.6.0"
  }
 },
 "nbformat": 4,
 "nbformat_minor": 2
}
